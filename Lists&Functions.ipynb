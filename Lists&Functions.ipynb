{
 "cells": [
  {
   "cell_type": "code",
   "execution_count": 8,
   "id": "c74b05ce-cbf0-42d3-bb27-1ad6b9557d7d",
   "metadata": {},
   "outputs": [
    {
     "name": "stdout",
     "output_type": "stream",
     "text": [
      "mozzarella\n"
     ]
    }
   ],
   "source": [
    "things=[\"mozzarella\",\"cinderella\",\"salmonella\"]\n",
    "print(things)\n"
   ]
  },
  {
   "cell_type": "code",
   "execution_count": 16,
   "id": "66f7e907-8aa8-45d4-a4a1-0d4ea9a3d122",
   "metadata": {},
   "outputs": [
    {
     "name": "stdout",
     "output_type": "stream",
     "text": [
      "['mozzarella', 'CINDERELLA', 'salmonella']\n"
     ]
    },
    {
     "data": {
      "text/plain": [
       "'other than cinderella printing out in all caps, there is no change in the element.'"
      ]
     },
     "execution_count": 16,
     "metadata": {},
     "output_type": "execute_result"
    }
   ],
   "source": [
    "things=[\"mozzarella\",\"cinderella\",\"salmonella\"]\n",
    "things[1]= \"CINDERELLA\"\n",
    "print(things)\n",
    "\"\"\"other than cinderella printing out in all caps, there is no change in the element.\"\"\""
   ]
  },
  {
   "cell_type": "code",
   "execution_count": 14,
   "id": "9727d454-ef19-4b27-8d9e-a43385cd0531",
   "metadata": {},
   "outputs": [
    {
     "name": "stdout",
     "output_type": "stream",
     "text": [
      "['MOZZARELLA', 'CINDERELLA', 'salmonella']\n"
     ]
    }
   ],
   "source": [
    "things=[\"mozzarella\",\"cinderella\",\"salmonella\"]\n",
    "things[0]=\"MOZZARELLA\"\n",
    "print(things)"
   ]
  },
  {
   "cell_type": "code",
   "execution_count": 24,
   "id": "17e23f68-dbf7-4c26-a8ee-cd4906f54c07",
   "metadata": {},
   "outputs": [
    {
     "name": "stdout",
     "output_type": "stream",
     "text": [
      "['mozzarella', 'cinderella']\n"
     ]
    }
   ],
   "source": [
    "things=[\"mozzarella\",\"cinderella\",\"salmonella\"]\n",
    "del things[2]\n",
    "print(things)"
   ]
  },
  {
   "cell_type": "code",
   "execution_count": 36,
   "id": "87620913-7940-4da5-a23a-074b9a5498eb",
   "metadata": {},
   "outputs": [
    {
     "name": "stdout",
     "output_type": "stream",
     "text": [
      "['Harry', 'Ron', 'Hermione']\n"
     ]
    }
   ],
   "source": [
    " \"\"\"Define a function called good() that returns the following list: ['Harry', 'Ron', 'Hermione'].\"\"\"\n",
    "def good():\n",
    "    list=[\"Harry\",\"Ron\",\"Hermione\"]\n",
    "    print(list)\n",
    "\n",
    "good()"
   ]
  },
  {
   "cell_type": "code",
   "execution_count": 142,
   "id": "387cc271-313f-4c59-a34a-f9891eac7200",
   "metadata": {
    "scrolled": true
   },
   "outputs": [
    {
     "name": "stdout",
     "output_type": "stream",
     "text": [
      "1\n",
      "3\n",
      "5\n",
      "7\n",
      "9\n",
      "[2]\n"
     ]
    }
   ],
   "source": [
    " \"\"\"Define a generator function called get_odds() that returns the odd numbers from range(10). Use a for loop to find and print the third value returned.\"\"\"\n",
    "def get_odds():\n",
    "    numbers=[0,1,2,3,4,5,6,7,8,9,10]\n",
    "    i=0 \n",
    "    for numbers in range(10):\n",
    "        if numbers % 2 != 0:\n",
    "            print(numbers)\n",
    "            numbers=list[i]\n",
    "            i+=1\n",
    "            \n",
    "\n",
    "get_odds()\n",
    "\n",
    "print([2])\n",
    "\n",
    "    \n"
   ]
  },
  {
   "cell_type": "code",
   "execution_count": 76,
   "id": "e056f68e-eb11-49e7-b89d-bddf8d4b3f42",
   "metadata": {},
   "outputs": [
    {
     "name": "stdout",
     "output_type": "stream",
     "text": [
      "4\n",
      "549\n"
     ]
    }
   ],
   "source": [
    "def display_number(my_number):  # you can think of parameters as placeholders for data\n",
    "    print(my_number)    \n",
    "\n",
    "display_number(4)\n",
    "numb = 549\n",
    "display_number(numb)"
   ]
  },
  {
   "cell_type": "code",
   "execution_count": null,
   "id": "b1909ace-792e-4da7-971b-5b89681b8950",
   "metadata": {},
   "outputs": [],
   "source": []
  }
 ],
 "metadata": {
  "kernelspec": {
   "display_name": "Python 3 (ipykernel)",
   "language": "python",
   "name": "python3"
  },
  "language_info": {
   "codemirror_mode": {
    "name": "ipython",
    "version": 3
   },
   "file_extension": ".py",
   "mimetype": "text/x-python",
   "name": "python",
   "nbconvert_exporter": "python",
   "pygments_lexer": "ipython3",
   "version": "3.12.4"
  }
 },
 "nbformat": 4,
 "nbformat_minor": 5
}
